{
 "cells": [
  {
   "cell_type": "markdown",
   "id": "32436e8a-137e-469f-97fb-9e193a8a2d65",
   "metadata": {},
   "source": [
    "Question 1"
   ]
  },
  {
   "cell_type": "code",
   "execution_count": 1,
   "id": "40a7d2ea-fa6d-43f6-b5c3-831866baf1d4",
   "metadata": {},
   "outputs": [],
   "source": [
    "def two_sum(nums,target):\n",
    "    nums_hash={} ##hashset\n",
    "    for i in range(len(nums)):\n",
    "        if target-nums[i] in nums_hash:\n",
    "            return [nums_hash[target-nums[i]],i]\n",
    "        ##key-value pair in hash set\n",
    "        nums_hash[nums[i]]=i\n",
    "   "
   ]
  },
  {
   "cell_type": "code",
   "execution_count": 3,
   "id": "923f8595-f3b7-44ff-8ad6-8748882f2910",
   "metadata": {},
   "outputs": [
    {
     "data": {
      "text/plain": [
       "[0, 1]"
      ]
     },
     "execution_count": 3,
     "metadata": {},
     "output_type": "execute_result"
    }
   ],
   "source": [
    "##function call\n",
    "two_sum(nums=[2,7,11,15],target=9)"
   ]
  },
  {
   "cell_type": "markdown",
   "id": "4d2218f7-e219-4847-ac4d-40b97b6c5600",
   "metadata": {},
   "source": [
    "Question 2"
   ]
  },
  {
   "cell_type": "code",
   "execution_count": 4,
   "id": "299e67f6-c098-45da-8f95-768cc0854d7a",
   "metadata": {},
   "outputs": [],
   "source": [
    "##to remove occurences of val in-place\n",
    "def remove_element(nums:list[int],val:int)->int:\n",
    "    k=0\n",
    "    for x in nums:\n",
    "        ##checking for the target value\n",
    "        if x!=val:\n",
    "            nums[k]=x\n",
    "            k+=1\n",
    "    print(\"nums=\",nums) \n",
    "    return k"
   ]
  },
  {
   "cell_type": "code",
   "execution_count": 5,
   "id": "24670f91-9696-4a24-9dc3-9cd065af4af8",
   "metadata": {},
   "outputs": [
    {
     "name": "stdout",
     "output_type": "stream",
     "text": [
      "nums= [2, 2, 2, 3]\n"
     ]
    },
    {
     "data": {
      "text/plain": [
       "2"
      ]
     },
     "execution_count": 5,
     "metadata": {},
     "output_type": "execute_result"
    }
   ],
   "source": [
    "##fuction call\n",
    "remove_element([3,2,2,3],3)"
   ]
  },
  {
   "cell_type": "markdown",
   "id": "b0f9b705-e924-4842-9dfa-029c63ab0112",
   "metadata": {},
   "source": [
    "Question 3"
   ]
  },
  {
   "cell_type": "code",
   "execution_count": 20,
   "id": "ce3487fb-2054-4873-9d5b-ada39756bfe2",
   "metadata": {},
   "outputs": [],
   "source": [
    "def find_index(arr,n,target):\n",
    "    start=0\n",
    "    end=n-1\n",
    "    ##using binary search algorithm\n",
    "    ##time-complexity-O(log n)\n",
    "    while start<=end:\n",
    "        mid=start+(end-start)//2\n",
    "        if arr[mid]==target:\n",
    "            return mid\n",
    "        elif arr[mid]<target:\n",
    "            start=mid+1\n",
    "        else:\n",
    "            end=mid-1\n",
    "    ## for inserting at last index\n",
    "    return end+1"
   ]
  },
  {
   "cell_type": "code",
   "execution_count": 21,
   "id": "55e15331-41fa-45b7-94dd-069fdba1a1df",
   "metadata": {},
   "outputs": [
    {
     "name": "stdout",
     "output_type": "stream",
     "text": [
      "2\n"
     ]
    }
   ],
   "source": [
    "arr=[1,3,5,6]\n",
    "##function call\n",
    "print(find_index(arr,len(arr),5))"
   ]
  },
  {
   "cell_type": "markdown",
   "id": "fc230af6-a47f-4909-b0f4-5ea7411e8e42",
   "metadata": {},
   "source": [
    "Question 4"
   ]
  },
  {
   "cell_type": "code",
   "execution_count": 22,
   "id": "9778e0d5-ed2b-4982-8569-21a0d22ffc72",
   "metadata": {},
   "outputs": [],
   "source": [
    "def Plus_One(digits):\n",
    "    index=len(digits)-1\n",
    "    while index>=0 and digits[index]==9:\n",
    "        digits[index]=0\n",
    "        index-=1\n",
    "    if index<0:\n",
    "        ##inserring 1 at 0th index\n",
    "        digits.insert(0,1)\n",
    "    else:\n",
    "        ##adding 1 at last index\n",
    "        digits[index]+=1\n",
    "    return digits"
   ]
  },
  {
   "cell_type": "code",
   "execution_count": 23,
   "id": "0f1f26ae-a8ed-4c91-b848-40af5d4ab2c4",
   "metadata": {},
   "outputs": [
    {
     "data": {
      "text/plain": [
       "[1, 2, 4]"
      ]
     },
     "execution_count": 23,
     "metadata": {},
     "output_type": "execute_result"
    }
   ],
   "source": [
    "##function call\n",
    "Plus_One([1,2,3])"
   ]
  },
  {
   "cell_type": "markdown",
   "id": "7f1b5c12-971e-4835-a5a1-521d66a4e6ce",
   "metadata": {},
   "source": [
    "Question 5"
   ]
  },
  {
   "cell_type": "code",
   "execution_count": 10,
   "id": "a8a4dc39-c735-4fc0-80a9-b2db3693d6cf",
   "metadata": {},
   "outputs": [],
   "source": [
    "def merge(nums1,nums2,m,n):\n",
    "    i=0\n",
    "    for x in range(len(nums1)):\n",
    "        if i>=n:\n",
    "            break\n",
    "        if nums1[x]==0:\n",
    "            ##insertion at value=0 in nums1 array\n",
    "            nums1[x]=nums2[i]\n",
    "            i+=1\n",
    "    ##sorting nums1 in-place\n",
    "    nums1.sort()\n",
    "    print(nums1)"
   ]
  },
  {
   "cell_type": "code",
   "execution_count": 11,
   "id": "3bfe31a5-1159-455a-93e8-6f65c4198fd8",
   "metadata": {},
   "outputs": [
    {
     "name": "stdout",
     "output_type": "stream",
     "text": [
      "[1, 2, 2, 3, 5, 6]\n"
     ]
    }
   ],
   "source": [
    "##function call\n",
    "merge([1,2,3,0,0,0],[2,5,6],m=3,n=3)"
   ]
  },
  {
   "cell_type": "markdown",
   "id": "63ecbd53-9538-4902-8e93-63c6b44e1e68",
   "metadata": {},
   "source": [
    "Question 6"
   ]
  },
  {
   "cell_type": "code",
   "execution_count": null,
   "id": "d9431cb6-ccfe-49b1-abfe-f62b223150d5",
   "metadata": {},
   "outputs": [],
   "source": [
    "def contains_duplicate(nums:list[int])->bool: ##returns boolean value\n",
    "    data=set()\n",
    "    for i in nums:\n",
    "        if i in data:\n",
    "            return True\n",
    "        data.add(i)\n",
    "    ##returns false if every element is distinct\n",
    "    return False"
   ]
  },
  {
   "cell_type": "code",
   "execution_count": 13,
   "id": "5e5ae489-07c8-4e15-8d13-60c44506c62d",
   "metadata": {},
   "outputs": [
    {
     "data": {
      "text/plain": [
       "True"
      ]
     },
     "execution_count": 13,
     "metadata": {},
     "output_type": "execute_result"
    }
   ],
   "source": [
    "##function call\n",
    "contains_duplicate([1,2,3,1])"
   ]
  },
  {
   "cell_type": "markdown",
   "id": "80b2ccdc-7a06-44f6-8d19-95c1d07df630",
   "metadata": {},
   "source": [
    "Question 7"
   ]
  },
  {
   "cell_type": "code",
   "execution_count": 14,
   "id": "f7b0c9aa-0426-437e-9031-98ba3972efff",
   "metadata": {},
   "outputs": [],
   "source": [
    "def move_zeroes_to_end(nums):\n",
    "    j=0\n",
    "    for i in range(len(nums)):\n",
    "        if nums[i]!=0:\n",
    "            ##swapping the elements\n",
    "            ##to move zeroes at end\n",
    "            ##in-place\n",
    "            nums[i],nums[j]=nums[j],nums[i]\n",
    "            j+=1\n",
    "    print(nums)     "
   ]
  },
  {
   "cell_type": "code",
   "execution_count": 15,
   "id": "c862a9b8-7f0b-477a-850d-12901a0e41ba",
   "metadata": {},
   "outputs": [
    {
     "name": "stdout",
     "output_type": "stream",
     "text": [
      "[1, 3, 12, 0, 0]\n"
     ]
    }
   ],
   "source": [
    "##function call\n",
    "move_zeroes_to_end(nums=[0,1,0,3,12])"
   ]
  },
  {
   "cell_type": "markdown",
   "id": "4ca37751-2b14-41cb-86c3-3259eabb704f",
   "metadata": {},
   "source": [
    "Question 8"
   ]
  },
  {
   "cell_type": "code",
   "execution_count": 16,
   "id": "7947ce39-4c5b-45e9-a144-0348035d2e9d",
   "metadata": {},
   "outputs": [],
   "source": [
    "def repeat_duplicate_values(nums,length):\n",
    "    lst=[]##empty list\n",
    "    for i in range(length):\n",
    "        if nums[abs(nums[i])-1]>0:\n",
    "            nums[abs(nums[i])-1]=-nums[abs(nums[i])-1]\n",
    "        else:\n",
    "            ##repeating number\n",
    "            lst.append(abs(nums[i]))\n",
    "    for j in range(length):\n",
    "        ## checking the index of absolute value\n",
    "        if nums[j]>0:\n",
    "            ##missing number\n",
    "            lst.append(j+1)\n",
    "    print(lst)"
   ]
  },
  {
   "cell_type": "code",
   "execution_count": 17,
   "id": "091cabea-c1f0-4227-a751-f417bcdbcf8a",
   "metadata": {},
   "outputs": [
    {
     "name": "stdout",
     "output_type": "stream",
     "text": [
      "[2, 3]\n"
     ]
    }
   ],
   "source": [
    "nums=[1,2,2,4]\n",
    "##function call\n",
    "repeat_duplicate_values(nums,len(nums))"
   ]
  },
  {
   "cell_type": "code",
   "execution_count": null,
   "id": "310e2162-619d-4fed-9c82-c7de027712db",
   "metadata": {},
   "outputs": [],
   "source": []
  }
 ],
 "metadata": {
  "kernelspec": {
   "display_name": "Python 3 (ipykernel)",
   "language": "python",
   "name": "python3"
  },
  "language_info": {
   "codemirror_mode": {
    "name": "ipython",
    "version": 3
   },
   "file_extension": ".py",
   "mimetype": "text/x-python",
   "name": "python",
   "nbconvert_exporter": "python",
   "pygments_lexer": "ipython3",
   "version": "3.10.8"
  }
 },
 "nbformat": 4,
 "nbformat_minor": 5
}
