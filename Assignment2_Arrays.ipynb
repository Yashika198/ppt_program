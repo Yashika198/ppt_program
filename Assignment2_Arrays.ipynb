{
 "cells": [
  {
   "cell_type": "markdown",
   "id": "7fa85614-6e95-4ab8-b743-ef8ef0aaad30",
   "metadata": {},
   "source": [
    "Question 1"
   ]
  },
  {
   "cell_type": "code",
   "execution_count": 1,
   "id": "690a5cf0-592d-4738-869a-b0b8daefcf51",
   "metadata": {},
   "outputs": [],
   "source": [
    "##Space complexity:O(nlog n)\n",
    "##Time complexity:O(1)\n",
    "def Array_pair_sum(nums):\n",
    "    nums.sort()\n",
    "    sum=0\n",
    "    for i in range(0,len(nums)-1,2):\n",
    "        sum=sum+min(nums[i],nums[i+1])\n",
    "    return sum"
   ]
  },
  {
   "cell_type": "code",
   "execution_count": 2,
   "id": "c966ec06-c8a5-4a32-b977-415d1e8d72b0",
   "metadata": {},
   "outputs": [
    {
     "data": {
      "text/plain": [
       "4"
      ]
     },
     "execution_count": 2,
     "metadata": {},
     "output_type": "execute_result"
    }
   ],
   "source": [
    "Array_pair_sum(nums=[1,4,3,2])"
   ]
  },
  {
   "cell_type": "markdown",
   "id": "ebddac0f-f054-4c65-858d-ebaed587db2f",
   "metadata": {},
   "source": [
    "Question 2"
   ]
  },
  {
   "cell_type": "code",
   "execution_count": 3,
   "id": "064b62be-4d86-4a85-9d3f-54246cef7cd3",
   "metadata": {},
   "outputs": [],
   "source": [
    "##using the concept of sets\n",
    "def distribute_candies( candy_type):\n",
    "    ans=min(len(set( candy_type)),len( candy_type))\n",
    "    if ans>(len( candy_type)/2):\n",
    "        ans=len( candy_type)/2\n",
    "    return ans"
   ]
  },
  {
   "cell_type": "code",
   "execution_count": 4,
   "id": "51786ab1-0ee1-4f8a-a32e-e57b53c46ca9",
   "metadata": {},
   "outputs": [
    {
     "data": {
      "text/plain": [
       "3"
      ]
     },
     "execution_count": 4,
     "metadata": {},
     "output_type": "execute_result"
    }
   ],
   "source": [
    "distribute_candies([1,1,2,2,3,3])"
   ]
  },
  {
   "cell_type": "markdown",
   "id": "12b95601-e925-41a3-9b07-aa9b389e45df",
   "metadata": {},
   "source": [
    "Question 3"
   ]
  },
  {
   "cell_type": "code",
   "execution_count": 7,
   "id": "52f47e95-3a00-4b2f-8454-31e5a32499e0",
   "metadata": {},
   "outputs": [],
   "source": [
    "def findlhs(nums) :       \n",
    "        H = {}\n",
    "        ##using the concept of hashmap\n",
    "        for num in nums:\n",
    "            if num in H:\n",
    "                H[num] += 1\n",
    "            else:\n",
    "                H[num] = 1\n",
    "\n",
    "        maxi = 0\n",
    "        for num in H:\n",
    "            if num+1 in H:\n",
    "                cur = H[num]+H[num+1]\n",
    "                ##to sum up the frequencies of numbers whose difference is 1\n",
    "                if cur > maxi:\n",
    "                    maxi = cur\n",
    "            if num-1 in H:\n",
    "                cur = H[num]+H[num-1]\n",
    "                if cur > maxi:\n",
    "                    maxi = cur\n",
    "        \n",
    "        return maxi"
   ]
  },
  {
   "cell_type": "code",
   "execution_count": 8,
   "id": "dda3e77f-ba79-4203-a9cc-c778a4021c10",
   "metadata": {},
   "outputs": [
    {
     "data": {
      "text/plain": [
       "5"
      ]
     },
     "execution_count": 8,
     "metadata": {},
     "output_type": "execute_result"
    }
   ],
   "source": [
    "findlhs([1,3,2,2,5,2,3,7])"
   ]
  },
  {
   "cell_type": "markdown",
   "id": "d340f0da-ba6a-446d-965e-5a66968dd194",
   "metadata": {},
   "source": [
    "Question 4"
   ]
  },
  {
   "cell_type": "code",
   "execution_count": 12,
   "id": "18d59b3d-0a0c-4df6-82c2-025ba53916f6",
   "metadata": {},
   "outputs": [],
   "source": [
    "##Time complexity:O(n)\n",
    "##Space complexity:O(1)\n",
    "def canPlaceFlowers(flowerbed, n):\n",
    "        \n",
    "        zeros = 1\n",
    "        for i in flowerbed:\n",
    "            if i == 0:\n",
    "                zeros += 1\n",
    "                if zeros == 3:\n",
    "                    ## for the case of 3 consecutive zeroes[0,0,0]\n",
    "                    zeros = 1\n",
    "                    n -= 1\n",
    "            else:\n",
    "                zeros = 0\n",
    "        if zeros == 2:\n",
    "            n -= 1\n",
    "        if n > 0:\n",
    "            return False\n",
    "        else:\n",
    "            return True"
   ]
  },
  {
   "cell_type": "code",
   "execution_count": 13,
   "id": "3388c0cf-8909-4cf4-aeab-52b56e5069e4",
   "metadata": {},
   "outputs": [
    {
     "data": {
      "text/plain": [
       "True"
      ]
     },
     "execution_count": 13,
     "metadata": {},
     "output_type": "execute_result"
    }
   ],
   "source": [
    "canPlaceFlowers([1,0,0,0,1],n=1)"
   ]
  },
  {
   "cell_type": "markdown",
   "id": "7586eadd-3b9f-4cb5-b91c-532e12f32dfc",
   "metadata": {},
   "source": [
    "Question 5"
   ]
  },
  {
   "cell_type": "code",
   "execution_count": 14,
   "id": "102a2b28-cfa0-48a3-8ca7-499adbce1445",
   "metadata": {},
   "outputs": [],
   "source": [
    "##Time complexity:O(n)\n",
    "##Space complexity:O(1)\n",
    "def maximumProduct(nums):\n",
    "    n=len(nums)\n",
    "    ##corner case or edge case\n",
    "    if n<3:\n",
    "        return -1\n",
    "    nums.sort()\n",
    "    maxProduct=max(nums[n-3]*nums[n-2]*nums[n-1],nums[0]*nums[1]*nums[n-1])\n",
    "    return maxProduct"
   ]
  },
  {
   "cell_type": "code",
   "execution_count": 15,
   "id": "237fe3e1-66d8-49a2-91f4-a8653245dd1f",
   "metadata": {},
   "outputs": [
    {
     "data": {
      "text/plain": [
       "6"
      ]
     },
     "execution_count": 15,
     "metadata": {},
     "output_type": "execute_result"
    }
   ],
   "source": [
    "maximumProduct([1,2,3])"
   ]
  },
  {
   "cell_type": "markdown",
   "id": "6e171344-7152-428e-a235-ebf5de88c156",
   "metadata": {},
   "source": [
    "Question 6:"
   ]
  },
  {
   "cell_type": "code",
   "execution_count": 17,
   "id": "46ae8939-9b27-47f0-8da6-da4be5da461b",
   "metadata": {},
   "outputs": [],
   "source": [
    "##Time complexity:O(log n)\n",
    "##Space complexity:O(1)\n",
    "def integers(nums,target):\n",
    "    i=0\n",
    "    j=len(nums)-1\n",
    "    while i<=j:\n",
    "        mid=i+(j-i)//2\n",
    "        if nums[mid]==target:\n",
    "            return mid\n",
    "        elif nums[mid]>target:\n",
    "            j=mid-1\n",
    "        else:\n",
    "            i=mid+1\n",
    "    return -1"
   ]
  },
  {
   "cell_type": "code",
   "execution_count": 18,
   "id": "9646f700-b452-4a8d-a5cd-8acb21763b0a",
   "metadata": {},
   "outputs": [
    {
     "data": {
      "text/plain": [
       "4"
      ]
     },
     "execution_count": 18,
     "metadata": {},
     "output_type": "execute_result"
    }
   ],
   "source": [
    "integers([-1,0,3,5,9,12],9)"
   ]
  },
  {
   "cell_type": "markdown",
   "id": "0fb33642-be66-490b-a497-c719044e64b8",
   "metadata": {},
   "source": [
    "Question 7:"
   ]
  },
  {
   "cell_type": "code",
   "execution_count": 20,
   "id": "4f00570d-6583-4335-bf98-315942e3ef32",
   "metadata": {},
   "outputs": [],
   "source": [
    "##Time complexity:O(n)\n",
    "##Space complexity:O(1)\n",
    "def isMonotonic(nums):\n",
    "        inc=True\n",
    "        dec=True\n",
    "        for i in range(0,len(nums)-1):\n",
    "            if nums[i]>nums[i+1]:\n",
    "                inc=False\n",
    "        for i in range(0,len(nums)-1):\n",
    "            if nums[i]<nums[i+1]:\n",
    "                dec=False\n",
    "        return inc or dec"
   ]
  },
  {
   "cell_type": "code",
   "execution_count": 21,
   "id": "8cf7d55a-291c-4119-909f-c05ee2a0b7a8",
   "metadata": {},
   "outputs": [
    {
     "data": {
      "text/plain": [
       "True"
      ]
     },
     "execution_count": 21,
     "metadata": {},
     "output_type": "execute_result"
    }
   ],
   "source": [
    "isMonotonic([1,2,2,3])"
   ]
  },
  {
   "cell_type": "markdown",
   "id": "833c80c1-5210-4732-86c8-80296e825878",
   "metadata": {},
   "source": [
    "Question 8:"
   ]
  },
  {
   "cell_type": "code",
   "execution_count": 25,
   "id": "416bf1de-02c5-40c6-ae56-98e645d041c2",
   "metadata": {},
   "outputs": [],
   "source": [
    "##Time complexity:O(n)\n",
    "##Space complexity:O(1)\n",
    "def smallest_range(nums,k):\n",
    "    min_val=nums[0]\n",
    "    max_val=nums[0]\n",
    "    for i in range(len(nums)):\n",
    "        min_val=min(min_val,nums[i])\n",
    "        max_val=min(max_val,nums[i])\n",
    "    if (min_val+k)>=(max_val-k):\n",
    "        return 0\n",
    "    else:\n",
    "        return (max_val-k)-(min_val+k)"
   ]
  },
  {
   "cell_type": "code",
   "execution_count": 26,
   "id": "1e37a5d5-d087-44a5-9650-7708af7d1061",
   "metadata": {},
   "outputs": [
    {
     "data": {
      "text/plain": [
       "0"
      ]
     },
     "execution_count": 26,
     "metadata": {},
     "output_type": "execute_result"
    }
   ],
   "source": [
    "smallest_range([1],0)"
   ]
  }
 ],
 "metadata": {
  "kernelspec": {
   "display_name": "Python 3 (ipykernel)",
   "language": "python",
   "name": "python3"
  },
  "language_info": {
   "codemirror_mode": {
    "name": "ipython",
    "version": 3
   },
   "file_extension": ".py",
   "mimetype": "text/x-python",
   "name": "python",
   "nbconvert_exporter": "python",
   "pygments_lexer": "ipython3",
   "version": "3.10.8"
  }
 },
 "nbformat": 4,
 "nbformat_minor": 5
}
