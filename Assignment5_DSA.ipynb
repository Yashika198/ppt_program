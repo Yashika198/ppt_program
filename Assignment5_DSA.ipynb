{
 "cells": [
  {
   "cell_type": "markdown",
   "id": "c05ecd18-fb31-4ae2-8648-a2bf802ff957",
   "metadata": {},
   "source": [
    "Question 1:"
   ]
  },
  {
   "cell_type": "code",
   "execution_count": 2,
   "id": "c429378e-0b0c-4dc4-9c31-b25a4b379ec0",
   "metadata": {},
   "outputs": [],
   "source": [
    "def construct2DArray(original,m,n):\n",
    "    if len(original)!=m*n:\n",
    "        return []\n",
    "    ans=[[0]*n for _ in range(m)]\n",
    "    for i,num in enumerate(original):\n",
    "        ans[i//n][i%n]=num\n",
    "    return ans"
   ]
  },
  {
   "cell_type": "code",
   "execution_count": 3,
   "id": "ac3c1b83-5e6b-49eb-a61d-288eebca9bc2",
   "metadata": {},
   "outputs": [
    {
     "data": {
      "text/plain": [
       "[[1, 2], [3, 4]]"
      ]
     },
     "execution_count": 3,
     "metadata": {},
     "output_type": "execute_result"
    }
   ],
   "source": [
    "construct2DArray(original=[1,2,3,4],m=2,n=2)"
   ]
  },
  {
   "cell_type": "markdown",
   "id": "f40e15ac-d1df-4ec3-acb7-686308d8cf70",
   "metadata": {},
   "source": [
    "Question 2:"
   ]
  },
  {
   "cell_type": "code",
   "execution_count": 3,
   "id": "88b0372f-b42a-4f79-8723-7a2ac4947e6c",
   "metadata": {},
   "outputs": [],
   "source": [
    "def arrangeCoins(n):\n",
    "    coin=1\n",
    "    level=0\n",
    "    while n>=coin:\n",
    "        n=n-coin\n",
    "        coin+=1\n",
    "        level+=1\n",
    "    return level  "
   ]
  },
  {
   "cell_type": "code",
   "execution_count": 4,
   "id": "327cbc31-1588-4a9e-8751-52d8217d365d",
   "metadata": {},
   "outputs": [
    {
     "data": {
      "text/plain": [
       "2"
      ]
     },
     "execution_count": 4,
     "metadata": {},
     "output_type": "execute_result"
    }
   ],
   "source": [
    "arrangeCoins(5)"
   ]
  },
  {
   "cell_type": "markdown",
   "id": "12969b8e-a7ff-4ffe-84be-37b53656452d",
   "metadata": {},
   "source": [
    "Question 3:"
   ]
  },
  {
   "cell_type": "code",
   "execution_count": 8,
   "id": "d2bfcf42-7189-4e3c-9f08-b4348413f98d",
   "metadata": {},
   "outputs": [],
   "source": [
    "def sortedSquared(nums):\n",
    "    n=len(nums)\n",
    "    left=0\n",
    "    right=n-1\n",
    "    ans=[]\n",
    "    while(left<=right):\n",
    "        if abs(nums[left])>abs(nums[right]):\n",
    "            ans.append(nums[left]*nums[left])\n",
    "            left+=1\n",
    "        else:\n",
    "            ans.append(nums[right]*nums[right])\n",
    "            right-=1\n",
    "    ans.reverse()\n",
    "    return ans"
   ]
  },
  {
   "cell_type": "code",
   "execution_count": 9,
   "id": "f33f62a4-febc-4adc-83ab-8ba89b098680",
   "metadata": {},
   "outputs": [
    {
     "data": {
      "text/plain": [
       "[0, 1, 9, 16, 100]"
      ]
     },
     "execution_count": 9,
     "metadata": {},
     "output_type": "execute_result"
    }
   ],
   "source": [
    "sortedSquared(nums=[-4,-1,0,3,10])"
   ]
  },
  {
   "cell_type": "markdown",
   "id": "636f4560-8754-4a24-98b4-70fd69d60e20",
   "metadata": {},
   "source": [
    "Question 4:"
   ]
  },
  {
   "cell_type": "code",
   "execution_count": 6,
   "id": "9534c59a-db39-4558-9cb2-35e108be40a4",
   "metadata": {},
   "outputs": [],
   "source": [
    "def findDifference(nums1,nums2):\n",
    "    set1=set(nums1)\n",
    "    set2=set(nums2)\n",
    "    answer= [list(set1-set2),list(set2-set1)]\n",
    "    return answer"
   ]
  },
  {
   "cell_type": "code",
   "execution_count": 7,
   "id": "64e560ec-db39-499f-9f62-08de4c958a27",
   "metadata": {},
   "outputs": [
    {
     "data": {
      "text/plain": [
       "[[1, 3], [4, 6]]"
      ]
     },
     "execution_count": 7,
     "metadata": {},
     "output_type": "execute_result"
    }
   ],
   "source": [
    "findDifference(nums1=[1,2,3],nums2=[2,4,6])"
   ]
  },
  {
   "cell_type": "markdown",
   "id": "047489fd-270f-4cd8-9376-a709e017831c",
   "metadata": {},
   "source": [
    "Question 5:"
   ]
  },
  {
   "cell_type": "code",
   "execution_count": 4,
   "id": "05c5efac-f340-4f9d-8621-30cce1d8ab85",
   "metadata": {},
   "outputs": [],
   "source": [
    "def findTheDistanceValue(arr1,arr2,d):\n",
    "    return sum(all(abs(a-b)>d for b in arr2) for a in arr1)   "
   ]
  },
  {
   "cell_type": "code",
   "execution_count": 5,
   "id": "83a793c2-42af-4ffe-9797-1f05f9fd9d5f",
   "metadata": {},
   "outputs": [
    {
     "data": {
      "text/plain": [
       "2"
      ]
     },
     "execution_count": 5,
     "metadata": {},
     "output_type": "execute_result"
    }
   ],
   "source": [
    "findTheDistanceValue(arr1=[4,5,8],arr2=[10,9,1,8],d=2)"
   ]
  },
  {
   "cell_type": "markdown",
   "id": "3bdc3ebb-92c5-4bca-9a5c-41dcf1769ccb",
   "metadata": {},
   "source": [
    "Question 6:"
   ]
  },
  {
   "cell_type": "code",
   "execution_count": 1,
   "id": "efee79a8-1dec-4d43-b5b9-824a23a2e1e8",
   "metadata": {},
   "outputs": [],
   "source": [
    "def findDuplicates(nums):\n",
    "    size=len(nums)\n",
    "    for i in range(size):\n",
    "        k=nums[i]%size\n",
    "        nums[k]=nums[k]+size\n",
    "    lst=[]\n",
    "    for j in range(size):\n",
    "        if (nums[j]>=size*2):\n",
    "            lst.append(j)\n",
    "    return lst"
   ]
  },
  {
   "cell_type": "code",
   "execution_count": 2,
   "id": "71ec1c76-94e4-4fb3-a57f-87b0d26216bd",
   "metadata": {},
   "outputs": [
    {
     "data": {
      "text/plain": [
       "[2, 3, 4]"
      ]
     },
     "execution_count": 2,
     "metadata": {},
     "output_type": "execute_result"
    }
   ],
   "source": [
    "findDuplicates([4,3,2,7,8,2,3,1])"
   ]
  },
  {
   "cell_type": "markdown",
   "id": "0c05519f-0623-4930-8c29-f52abe736e63",
   "metadata": {},
   "source": [
    "Question 7:"
   ]
  },
  {
   "cell_type": "code",
   "execution_count": 2,
   "id": "31b1eb5f-8c91-4729-9009-1a71bffd8318",
   "metadata": {},
   "outputs": [],
   "source": [
    "def findMin(nums):\n",
    "    if nums[0]<=nums[-1]:\n",
    "        return nums[0]\n",
    "    left,right=0,len(nums)-1\n",
    "    while left<right:\n",
    "        mid=left+(right-left)//2\n",
    "        if nums[0]<=nums[mid]:\n",
    "            left=mid+1\n",
    "        else:\n",
    "            right=mid\n",
    "        return nums[left]"
   ]
  },
  {
   "cell_type": "code",
   "execution_count": 3,
   "id": "a7ef18d3-fd04-4d73-a7b2-ec62157f8131",
   "metadata": {},
   "outputs": [
    {
     "data": {
      "text/plain": [
       "1"
      ]
     },
     "execution_count": 3,
     "metadata": {},
     "output_type": "execute_result"
    }
   ],
   "source": [
    "findMin(nums=[3,4,5,1,2])"
   ]
  },
  {
   "cell_type": "markdown",
   "id": "2ec9d03a-5a24-423f-9240-01e3e569441d",
   "metadata": {},
   "source": [
    "Question 8:"
   ]
  },
  {
   "cell_type": "code",
   "execution_count": 3,
   "id": "29f6b06d-4292-4ef0-96e5-0b519c74d405",
   "metadata": {},
   "outputs": [],
   "source": [
    "def findOriginal(changed):\n",
    "    numfreq={}\n",
    "    for i in range(0,len(changed)):\n",
    "        if changed[i] in numfreq:\n",
    "            numfreq[changed[i]]+=1\n",
    "        else:\n",
    "            numfreq[changed[i]]=1\n",
    "    changed.sort()\n",
    "    res=[]\n",
    "    for i in range(0,len(changed)):\n",
    "        freq=numfreq[changed[i]]\n",
    "        if freq>0:\n",
    "            res.append(changed[i])\n",
    "            numfreq[changed[i]]-=1\n",
    "            twice=2*changed[i]\n",
    "            numfreq[twice]-=1\n",
    "    return res"
   ]
  },
  {
   "cell_type": "code",
   "execution_count": 4,
   "id": "88392f7e-f472-4c5a-89ae-450126020b2b",
   "metadata": {},
   "outputs": [
    {
     "data": {
      "text/plain": [
       "[1, 3, 4]"
      ]
     },
     "execution_count": 4,
     "metadata": {},
     "output_type": "execute_result"
    }
   ],
   "source": [
    "findOriginal([1,3,4,2,6,8])"
   ]
  }
 ],
 "metadata": {
  "kernelspec": {
   "display_name": "Python 3 (ipykernel)",
   "language": "python",
   "name": "python3"
  },
  "language_info": {
   "codemirror_mode": {
    "name": "ipython",
    "version": 3
   },
   "file_extension": ".py",
   "mimetype": "text/x-python",
   "name": "python",
   "nbconvert_exporter": "python",
   "pygments_lexer": "ipython3",
   "version": "3.10.8"
  }
 },
 "nbformat": 4,
 "nbformat_minor": 5
}
