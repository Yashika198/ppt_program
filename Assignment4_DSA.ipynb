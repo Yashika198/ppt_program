{
 "cells": [
  {
   "cell_type": "markdown",
   "id": "0426b2b5-7470-4a29-8b3e-052ce0963c29",
   "metadata": {},
   "source": [
    "Question 1:"
   ]
  },
  {
   "cell_type": "code",
   "execution_count": 17,
   "id": "0a95e54a-5e1d-4115-b6e6-63b86d9faf4d",
   "metadata": {},
   "outputs": [],
   "source": [
    "def findCommon(arr1,arr2,arr3):\n",
    "    n1=len(arr1)\n",
    "    n2=len(arr2)\n",
    "    n3=len(arr3)\n",
    "    i,j,k=0,0,0\n",
    "    l1=[]\n",
    "    while (i<n1 and j<n2 and k<n3):\n",
    "        if (arr1[i]==arr2[j] and arr2[j]==arr3[k]):\n",
    "            l1.append(arr1[i])\n",
    "            i+=1\n",
    "            j+=1\n",
    "            k+=1\n",
    "        elif arr1[i]<arr2[j]:\n",
    "            i+=1\n",
    "        elif arr2[j]<arr3[k]:\n",
    "            j+=1\n",
    "        else:\n",
    "            k+=1\n",
    "    print(l1)"
   ]
  },
  {
   "cell_type": "code",
   "execution_count": 18,
   "id": "1814d5fd-a96b-430b-98ed-face10afd0e2",
   "metadata": {},
   "outputs": [
    {
     "name": "stdout",
     "output_type": "stream",
     "text": [
      "[1, 5]\n"
     ]
    }
   ],
   "source": [
    "findCommon(arr1=[1,2,3,4,5],arr2=[1,2,5,7,9],arr3=[1,3,4,5,8])"
   ]
  },
  {
   "cell_type": "markdown",
   "id": "20b33ebd-3406-44a7-800a-570ee1df0e16",
   "metadata": {},
   "source": [
    "Question 2:"
   ]
  },
  {
   "cell_type": "code",
   "execution_count": 1,
   "id": "71481403-61bd-4dc5-b311-de3ded82b900",
   "metadata": {},
   "outputs": [],
   "source": [
    "def findDifference(nums1,nums2):\n",
    "    set1=set(nums1)\n",
    "    set2=set(nums2)\n",
    "    answer= [list(set1-set2),list(set2-set1)]\n",
    "    return answer"
   ]
  },
  {
   "cell_type": "code",
   "execution_count": 2,
   "id": "d2343af7-cbf5-4fd4-a006-a4dc4cff3c2d",
   "metadata": {},
   "outputs": [
    {
     "data": {
      "text/plain": [
       "[[1, 3], [4, 6]]"
      ]
     },
     "execution_count": 2,
     "metadata": {},
     "output_type": "execute_result"
    }
   ],
   "source": [
    "findDifference(nums1=[1,2,3],nums2=[2,4,6])"
   ]
  },
  {
   "cell_type": "markdown",
   "id": "6db4f19e-5278-413d-89ab-eb0fc00924e1",
   "metadata": {},
   "source": [
    "Question 3:"
   ]
  },
  {
   "cell_type": "code",
   "execution_count": 5,
   "id": "8fd6f3f6-a78c-4d4b-8a97-01c0ce5f5474",
   "metadata": {},
   "outputs": [],
   "source": [
    "def Transpose(matrix):\n",
    "    rows=len(matrix)\n",
    "    cols=len(matrix[0])\n",
    "    for i in range(rows):\n",
    "        for j in range(i+1,cols):\n",
    "            matrix[i][j],matrix[j][i]=matrix[j][i],matrix[i][j]\n",
    "    return matrix"
   ]
  },
  {
   "cell_type": "code",
   "execution_count": 6,
   "id": "7d6ae9bc-c607-4ec0-b45c-1f3111a50092",
   "metadata": {},
   "outputs": [
    {
     "data": {
      "text/plain": [
       "[[1, 4, 7], [2, 5, 8], [3, 6, 9]]"
      ]
     },
     "execution_count": 6,
     "metadata": {},
     "output_type": "execute_result"
    }
   ],
   "source": [
    "Transpose(matrix=[[1,2,3],[4,5,6],[7,8,9]])"
   ]
  },
  {
   "cell_type": "markdown",
   "id": "f4fc942d-d91d-4fb3-aecf-ad3eb1bfaf39",
   "metadata": {},
   "source": [
    "Question 4:"
   ]
  },
  {
   "cell_type": "code",
   "execution_count": 1,
   "id": "5af9e853-f8f2-4af1-b106-d3161b63820d",
   "metadata": {},
   "outputs": [],
   "source": [
    "##Space complexity:O(nlog n)\n",
    "##Time complexity:O(1)\n",
    "def Array_pair_sum(nums):\n",
    "    nums.sort()\n",
    "    sum=0\n",
    "    for i in range(0,len(nums)-1,2):\n",
    "        sum=sum+min(nums[i],nums[i+1])\n",
    "    return sum"
   ]
  },
  {
   "cell_type": "code",
   "execution_count": 2,
   "id": "111e3cab-71ff-40e9-ac4f-628c471e8426",
   "metadata": {},
   "outputs": [
    {
     "data": {
      "text/plain": [
       "4"
      ]
     },
     "execution_count": 2,
     "metadata": {},
     "output_type": "execute_result"
    }
   ],
   "source": [
    "Array_pair_sum(nums=[1,4,3,2])"
   ]
  },
  {
   "cell_type": "markdown",
   "id": "a8147e07-fe35-4350-a9b1-dff46938d7f5",
   "metadata": {},
   "source": [
    "Question 5:"
   ]
  },
  {
   "cell_type": "code",
   "execution_count": 3,
   "id": "c72870e0-853f-46a3-8124-fe5ea176bce5",
   "metadata": {},
   "outputs": [],
   "source": [
    "def arrangeCoins(n):\n",
    "    coin=1\n",
    "    level=0\n",
    "    while n>=coin:\n",
    "        n=n-coin\n",
    "        coin+=1\n",
    "        level+=1\n",
    "    return level  "
   ]
  },
  {
   "cell_type": "code",
   "execution_count": 15,
   "id": "99613b4b-ef8d-4a12-ade3-9abb1e0be2c5",
   "metadata": {},
   "outputs": [
    {
     "data": {
      "text/plain": [
       "2"
      ]
     },
     "execution_count": 15,
     "metadata": {},
     "output_type": "execute_result"
    }
   ],
   "source": [
    "arrangeCoins(5)"
   ]
  },
  {
   "cell_type": "markdown",
   "id": "4cf992a0-db37-49e1-8003-54ef634064f7",
   "metadata": {},
   "source": [
    "Question 6:"
   ]
  },
  {
   "cell_type": "code",
   "execution_count": 25,
   "id": "a3ff5ca3-c0f5-4753-84c0-2b0c7c1bdcee",
   "metadata": {},
   "outputs": [],
   "source": [
    "def sortedSquared(nums):\n",
    "    n=len(nums)\n",
    "    left=0\n",
    "    right=n-1\n",
    "    ans=[]\n",
    "    while(left<=right):\n",
    "        if abs(nums[left])>abs(nums[right]):\n",
    "            ans.append(nums[left]*nums[left])\n",
    "            left+=1\n",
    "        else:\n",
    "            ans.append(nums[right]*nums[right])\n",
    "            right-=1\n",
    "    ans.reverse()\n",
    "    return ans"
   ]
  },
  {
   "cell_type": "code",
   "execution_count": 26,
   "id": "933b6912-e5c6-4f66-8b99-20ae0c4d5a9d",
   "metadata": {},
   "outputs": [
    {
     "data": {
      "text/plain": [
       "[0, 1, 9, 16, 100]"
      ]
     },
     "execution_count": 26,
     "metadata": {},
     "output_type": "execute_result"
    }
   ],
   "source": [
    "sortedSquared(nums=[-4,-1,0,3,10])"
   ]
  },
  {
   "cell_type": "markdown",
   "id": "337b711c-a233-4912-b203-bd12ce90c65b",
   "metadata": {},
   "source": [
    "Question 7:"
   ]
  },
  {
   "cell_type": "code",
   "execution_count": 31,
   "id": "d9388d96-a8c0-4414-9b2d-1a99c494e3a7",
   "metadata": {},
   "outputs": [],
   "source": [
    "def maxCount(m,n,ops):\n",
    "    for r,c in ops:\n",
    "        m=min(m,r)\n",
    "        n=min(c,n)\n",
    "    return m*n"
   ]
  },
  {
   "cell_type": "code",
   "execution_count": 32,
   "id": "a3dfa914-d499-4e4c-979f-1623f12ef5c1",
   "metadata": {},
   "outputs": [
    {
     "data": {
      "text/plain": [
       "4"
      ]
     },
     "execution_count": 32,
     "metadata": {},
     "output_type": "execute_result"
    }
   ],
   "source": [
    "maxCount(m=3,n=3,ops=[[2,2],[3,3]])"
   ]
  },
  {
   "cell_type": "markdown",
   "id": "312c3dc4-eddb-4e67-8ddd-3db92af55107",
   "metadata": {},
   "source": [
    "Question 8:"
   ]
  },
  {
   "cell_type": "code",
   "execution_count": 66,
   "id": "3f6e4720-3e46-4f9a-942a-c39f42383994",
   "metadata": {},
   "outputs": [],
   "source": [
    "def shuffle( nums, n) :\n",
    "        arr1=[]\n",
    "        arr2=[]\n",
    "        arr3=[]\n",
    "        for i in range(n):\n",
    "            arr1.append(nums[i])\n",
    "        for i in range(n,2*n):\n",
    "            arr2.append(nums[i])\n",
    "        for i in range(n):\n",
    "            arr3.append(arr1[i])\n",
    "            arr3.append(arr2[i])\n",
    "        return arr3"
   ]
  },
  {
   "cell_type": "code",
   "execution_count": 67,
   "id": "bf8aba17-e930-461b-a62c-a88e91e3b416",
   "metadata": {},
   "outputs": [
    {
     "data": {
      "text/plain": [
       "[2, 3, 5, 4, 1, 7]"
      ]
     },
     "execution_count": 67,
     "metadata": {},
     "output_type": "execute_result"
    }
   ],
   "source": [
    "shuffle([2,5,1,3,4,7],3)"
   ]
  }
 ],
 "metadata": {
  "kernelspec": {
   "display_name": "Python 3 (ipykernel)",
   "language": "python",
   "name": "python3"
  },
  "language_info": {
   "codemirror_mode": {
    "name": "ipython",
    "version": 3
   },
   "file_extension": ".py",
   "mimetype": "text/x-python",
   "name": "python",
   "nbconvert_exporter": "python",
   "pygments_lexer": "ipython3",
   "version": "3.10.8"
  }
 },
 "nbformat": 4,
 "nbformat_minor": 5
}
