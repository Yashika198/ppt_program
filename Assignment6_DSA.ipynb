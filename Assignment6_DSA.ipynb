{
 "cells": [
  {
   "cell_type": "markdown",
   "id": "d3878297-259d-4be0-b9f5-3e2ae0f81920",
   "metadata": {},
   "source": [
    "Question 1:"
   ]
  },
  {
   "cell_type": "code",
   "execution_count": 1,
   "id": "348207fc-2196-4629-8efe-ae56c71d94fb",
   "metadata": {},
   "outputs": [],
   "source": [
    "def diStringMatch(s):\n",
    "    perm=[]\n",
    "    lower=0\n",
    "    upper=len(s)\n",
    "    for i in s:\n",
    "        if i==\"I\":\n",
    "            perm.append(lower)\n",
    "            lower+=1\n",
    "        else:\n",
    "            perm.append(upper)\n",
    "            upper-=1\n",
    "    if s[len(s)-1]=='I':\n",
    "        perm.append(upper)\n",
    "    else:\n",
    "        perm.append(lower)\n",
    "    return perm"
   ]
  },
  {
   "cell_type": "code",
   "execution_count": 2,
   "id": "b719e3b2-d685-4a19-b13c-63dffdd03b9f",
   "metadata": {},
   "outputs": [
    {
     "data": {
      "text/plain": [
       "[0, 4, 1, 3, 2]"
      ]
     },
     "execution_count": 2,
     "metadata": {},
     "output_type": "execute_result"
    }
   ],
   "source": [
    "diStringMatch(s='IDID')"
   ]
  },
  {
   "cell_type": "markdown",
   "id": "0ace2c25-c285-45e7-9c88-214bd5459810",
   "metadata": {},
   "source": [
    "Question 2:"
   ]
  },
  {
   "cell_type": "code",
   "execution_count": 5,
   "id": "19299694-dfe3-46b6-8d52-7a9519d35d96",
   "metadata": {},
   "outputs": [],
   "source": [
    "def searchMatrix(matrix,target):\n",
    "    row,col=len(matrix),len(matrix[0])\n",
    "    left=0\n",
    "    right=row+col-1\n",
    "    while left<=target:\n",
    "        mid=left+(right-left)//2\n",
    "        num=matrix[mid//col][mid%col]\n",
    "        if num==target:\n",
    "            return True\n",
    "        if num>target:\n",
    "            right=mid-1\n",
    "        else:\n",
    "            left=mid+1\n",
    "    return False    "
   ]
  },
  {
   "cell_type": "code",
   "execution_count": 6,
   "id": "164141de-79b9-4ffb-bad9-022efd4ef6ca",
   "metadata": {},
   "outputs": [
    {
     "data": {
      "text/plain": [
       "True"
      ]
     },
     "execution_count": 6,
     "metadata": {},
     "output_type": "execute_result"
    }
   ],
   "source": [
    "searchMatrix(matrix=[[1,3,5,7],[10,11,16,20],[23,30,34,60]],target=3)"
   ]
  },
  {
   "cell_type": "markdown",
   "id": "c2d112a2-a827-40c1-b538-62e5522c7fa9",
   "metadata": {},
   "source": [
    "Question 3:"
   ]
  },
  {
   "cell_type": "code",
   "execution_count": 53,
   "id": "84b6f705-84bf-4374-8119-b448e6a5b0b3",
   "metadata": {},
   "outputs": [],
   "source": [
    "def mountainArray(arr):\n",
    "    if len(arr)==1:\n",
    "        return False\n",
    "    incr,prev=None,arr[0]\n",
    "    for i in arr[1:]:\n",
    "        if prev==i:\n",
    "            return False\n",
    "        if incr is None:\n",
    "            if i<=prev:\n",
    "                return False\n",
    "            incr=True\n",
    "        elif incr and prev>e:\n",
    "            incr=False\n",
    "        elif not incr and prev<e:\n",
    "            return False\n",
    "        prev=i\n",
    "    return not incr   "
   ]
  },
  {
   "cell_type": "code",
   "execution_count": 54,
   "id": "798d464f-955c-46a8-83c3-868c81d8f147",
   "metadata": {},
   "outputs": [
    {
     "data": {
      "text/plain": [
       "False"
      ]
     },
     "execution_count": 54,
     "metadata": {},
     "output_type": "execute_result"
    }
   ],
   "source": [
    "mountainArray(arr=[2,1])"
   ]
  },
  {
   "cell_type": "markdown",
   "id": "d4b17a6a-279e-4009-afee-cf3f5be513cb",
   "metadata": {},
   "source": [
    "Question 4:"
   ]
  },
  {
   "cell_type": "code",
   "execution_count": 55,
   "id": "bc970ae0-cfa8-4ab8-a1ed-2cddbbfaf603",
   "metadata": {},
   "outputs": [],
   "source": [
    "def findMaxLength(nums):\n",
    "    tsum,hashmap=0,{0:-1}\n",
    "    res,diff=0,0\n",
    "    for i in range(len(nums)):\n",
    "        if nums[i]==0:\n",
    "            tsum-=1\n",
    "        else:\n",
    "            tsum+=1\n",
    "        try:\n",
    "            diff=i-hashmap[tsum]\n",
    "            if diff>res:\n",
    "                res=diff\n",
    "        except:\n",
    "            hashmap[tsum]=i\n",
    "    return res       "
   ]
  },
  {
   "cell_type": "code",
   "execution_count": 56,
   "id": "154c3f3a-f643-4db1-af05-c4f7b4c7e9a0",
   "metadata": {},
   "outputs": [
    {
     "name": "stdout",
     "output_type": "stream",
     "text": [
      "-1\n"
     ]
    },
    {
     "data": {
      "text/plain": [
       "0"
      ]
     },
     "execution_count": 60,
     "metadata": {},
     "output_type": "execute_result"
    }
   ],
   "source": [
    "findMaxLength(nums=[0,1])"
   ]
  },
  {
   "cell_type": "markdown",
   "id": "9e396ed8-9119-4e75-98fe-ef32625b413f",
   "metadata": {},
   "source": [
    "Question 5:"
   ]
  },
  {
   "cell_type": "code",
   "execution_count": 61,
   "id": "1985e92f-85d3-4e6b-8637-1fc3c9325297",
   "metadata": {},
   "outputs": [],
   "source": [
    "def minProductSum(nums1,nums2):\n",
    "    nums1.sort()\n",
    "    nums2.sort()\n",
    "    n=len(nums1)\n",
    "    res=0\n",
    "    for i in range(n):\n",
    "        res+=nums1[i]*nums2[n-i-1]\n",
    "    return res   "
   ]
  },
  {
   "cell_type": "code",
   "execution_count": 62,
   "id": "7dcaddbc-44b9-4435-9364-27b2996fcd60",
   "metadata": {},
   "outputs": [
    {
     "data": {
      "text/plain": [
       "40"
      ]
     },
     "execution_count": 62,
     "metadata": {},
     "output_type": "execute_result"
    }
   ],
   "source": [
    "minProductSum(nums1=[5,3,4,2],nums2=[4,2,2,5])"
   ]
  },
  {
   "cell_type": "markdown",
   "id": "55a9b150-90ff-4358-b318-5a47deeb225d",
   "metadata": {},
   "source": [
    "Question 6:"
   ]
  },
  {
   "cell_type": "code",
   "execution_count": 63,
   "id": "9f3de93f-3b1d-47bf-8491-df8f5d99af0d",
   "metadata": {},
   "outputs": [],
   "source": [
    "def findOriginal(changed):\n",
    "    numfreq={}\n",
    "    for i in range(0,len(changed)):\n",
    "        if changed[i] in numfreq:\n",
    "            numfreq[changed[i]]+=1\n",
    "        else:\n",
    "            numfreq[changed[i]]=1\n",
    "    changed.sort()\n",
    "    res=[]\n",
    "    for i in range(0,len(changed)):\n",
    "        freq=numfreq[changed[i]]\n",
    "        if freq>0:\n",
    "            res.append(changed[i])\n",
    "            numfreq[changed[i]]-=1\n",
    "            twice=2*changed[i]\n",
    "            numfreq[twice]-=1\n",
    "    return res"
   ]
  },
  {
   "cell_type": "code",
   "execution_count": 64,
   "id": "c0c0077e-c361-43ab-83e4-b11fb3a22bc7",
   "metadata": {},
   "outputs": [
    {
     "data": {
      "text/plain": [
       "[1, 3, 4]"
      ]
     },
     "execution_count": 64,
     "metadata": {},
     "output_type": "execute_result"
    }
   ],
   "source": [
    "findOriginal([1,3,4,2,6,8])"
   ]
  },
  {
   "cell_type": "markdown",
   "id": "187ecbdb-c76b-45a9-9a73-ca42cf22f30f",
   "metadata": {},
   "source": [
    "Question 7:"
   ]
  },
  {
   "cell_type": "code",
   "execution_count": 66,
   "id": "47fa1e44-c62a-4305-8564-6b9270e77087",
   "metadata": {},
   "outputs": [],
   "source": [
    "def generateMatrix(n):\n",
    "    if not n:\n",
    "        return []\n",
    "    matrix=[[ 0 for _ in range(n)] for _ in range(n)]\n",
    "    left,right,top,bottom,num=0,n-1,0,n-1,1\n",
    "    while left<=right and top<=bottom:\n",
    "        for i in range(left,right+1):\n",
    "            matrix[top][i]=num\n",
    "            num+=1\n",
    "        top+=1\n",
    "        for i in range(top,bottom+1):\n",
    "            matrix[i][right]=num\n",
    "            num+=1\n",
    "        right-=1\n",
    "        if top<=bottom:\n",
    "            for i in range(right,left-1,-1):\n",
    "                matrix[bottom][i]=num\n",
    "                num+=1\n",
    "            bottom-=1\n",
    "        if left<=right:\n",
    "            for i in range(bottom,top-1,-1):\n",
    "                matrix[i][left]=num\n",
    "                num+=1\n",
    "            left+=1\n",
    "    return matrix      "
   ]
  },
  {
   "cell_type": "code",
   "execution_count": 67,
   "id": "760cae60-eda4-41bd-b25f-c99568ad9b57",
   "metadata": {},
   "outputs": [
    {
     "data": {
      "text/plain": [
       "[[1, 2, 3], [8, 9, 4], [7, 6, 5]]"
      ]
     },
     "execution_count": 67,
     "metadata": {},
     "output_type": "execute_result"
    }
   ],
   "source": [
    "generateMatrix(3)"
   ]
  },
  {
   "cell_type": "markdown",
   "id": "96bc8bcc-4e61-4614-882b-2421bcd7b6d6",
   "metadata": {},
   "source": [
    "Question 8:"
   ]
  },
  {
   "cell_type": "code",
   "execution_count": 69,
   "id": "d2efcdb3-a7bc-45ee-9886-4a3398853560",
   "metadata": {},
   "outputs": [],
   "source": [
    "def multiply(mat1,mat2):\n",
    "    r1,c1,c2=len(mat1),len(mat1[0]),len(mat2[0])\n",
    "    res=[[0]*c2 for _ in range(r1)]\n",
    "    for i in range(r1):\n",
    "        for j in range(c2):\n",
    "            for k in range(c1):\n",
    "                res[i][j]+=mat1[i][k]*mat2[k][j]\n",
    "    return res     "
   ]
  },
  {
   "cell_type": "code",
   "execution_count": 70,
   "id": "cc3215db-f7db-44a9-922e-6e22f1ddb3c1",
   "metadata": {},
   "outputs": [
    {
     "data": {
      "text/plain": [
       "[[7, 0, 0], [-7, 0, 3]]"
      ]
     },
     "execution_count": 70,
     "metadata": {},
     "output_type": "execute_result"
    }
   ],
   "source": [
    "multiply([[1,0,0],[-1,0,3]],[[7,0,0],[0,0,0],[0,0,1]])"
   ]
  }
 ],
 "metadata": {
  "kernelspec": {
   "display_name": "Python 3 (ipykernel)",
   "language": "python",
   "name": "python3"
  },
  "language_info": {
   "codemirror_mode": {
    "name": "ipython",
    "version": 3
   },
   "file_extension": ".py",
   "mimetype": "text/x-python",
   "name": "python",
   "nbconvert_exporter": "python",
   "pygments_lexer": "ipython3",
   "version": "3.10.8"
  }
 },
 "nbformat": 4,
 "nbformat_minor": 5
}
