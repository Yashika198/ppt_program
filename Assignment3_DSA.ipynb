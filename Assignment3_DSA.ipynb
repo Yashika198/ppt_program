{
 "cells": [
  {
   "cell_type": "markdown",
   "id": "ab0cd492-341e-4224-808d-2859a538226d",
   "metadata": {},
   "source": [
    "Question 1:"
   ]
  },
  {
   "cell_type": "code",
   "execution_count": 1,
   "id": "cc75c2ec-66ff-4f05-aaf3-3b9066484a71",
   "metadata": {},
   "outputs": [],
   "source": [
    "def threeSumClosest(nums,target):\n",
    "    nums.sort()\n",
    "    n=len(nums)\n",
    "    closest=nums[0]+nums[1]+nums[n-1]\n",
    "    for i in range(0,n-2):\n",
    "        j=i+1\n",
    "        k=n-1\n",
    "        while j<k:\n",
    "            current_sum=nums[i]+nums[j]+nums[k]\n",
    "            if current_sum<=target:\n",
    "                j+=1\n",
    "            else:\n",
    "                k-=1\n",
    "            if abs(closest-target)>abs(current_sum-target):\n",
    "                closest=current_sum\n",
    "    return closest"
   ]
  },
  {
   "cell_type": "code",
   "execution_count": 2,
   "id": "fd7ea768-cf7a-4665-8f00-5843a073f79b",
   "metadata": {},
   "outputs": [
    {
     "data": {
      "text/plain": [
       "2"
      ]
     },
     "execution_count": 2,
     "metadata": {},
     "output_type": "execute_result"
    }
   ],
   "source": [
    "threeSumClosest(nums=[-1,2,1,-4],target=1)"
   ]
  },
  {
   "cell_type": "markdown",
   "id": "dba77ae4-db5a-42f3-a710-20910aec0be6",
   "metadata": {},
   "source": [
    "Question 2:"
   ]
  },
  {
   "cell_type": "code",
   "execution_count": 3,
   "id": "a50c0590-a574-4b17-a345-af3a2908ec60",
   "metadata": {},
   "outputs": [],
   "source": [
    "def fourSum(nums,target):\n",
    "    quadraduplets=list()\n",
    "    if nums is None or len(nums)<4:\n",
    "        return quadraduplets\n",
    "    nums.sort()\n",
    "    n=len(nums)\n",
    "    for i in range(0,n-3):\n",
    "        if i>0 and nums[i]==nums[i-1]:\n",
    "            continue\n",
    "        for j in range(i+1,n-2):\n",
    "            if j!=i+1 and nums[j]==nums[j-1]:\n",
    "                continue\n",
    "            \n",
    "            k=j+1\n",
    "            l=n-1\n",
    "            while k<l:\n",
    "                current_sum=nums[i]+nums[j]+nums[k]+nums[l]\n",
    "                if current_sum<target:\n",
    "                    k+=1\n",
    "                elif current_sum>target:\n",
    "                    l-=1\n",
    "                else:\n",
    "                    quadraduplets.append([nums[i],nums[j],nums[k],nums[l]])\n",
    "                    k+=1\n",
    "                    l-=1\n",
    "                    while k<l and nums[k]==nums[k-1]:\n",
    "                        k+=1\n",
    "                    while k<l and nums[l]==nums[l+1]:\n",
    "                        l-=1\n",
    "    return quadraduplets"
   ]
  },
  {
   "cell_type": "code",
   "execution_count": 4,
   "id": "be2d5186-5cc5-4296-8736-e65f55039333",
   "metadata": {},
   "outputs": [
    {
     "data": {
      "text/plain": [
       "[[-2, -1, 1, 2], [-2, 0, 0, 2], [-1, 0, 0, 1]]"
      ]
     },
     "execution_count": 4,
     "metadata": {},
     "output_type": "execute_result"
    }
   ],
   "source": [
    "fourSum([1,0,-1,0,-2,2],0)"
   ]
  },
  {
   "cell_type": "markdown",
   "id": "db93dc4b-14cf-41cf-b84b-035a35b39657",
   "metadata": {},
   "source": [
    "Question 3:"
   ]
  },
  {
   "cell_type": "code",
   "execution_count": 5,
   "id": "a8ea17d9-b8b0-441e-a177-137b340e076b",
   "metadata": {},
   "outputs": [],
   "source": [
    "def swapPositions(list,pos1,pos2):\n",
    "    list[pos1],list[pos2]=list[pos2],list[pos1]\n",
    "    return list\n",
    "def nextPermutation(nums):\n",
    "    n=len(nums)\n",
    "    i=0\n",
    "    j=0\n",
    "    for i in range(n-2,-1,-1):\n",
    "        if nums[i]<nums[i+1]:\n",
    "            break\n",
    "    if i<0:\n",
    "        nums.reverse()\n",
    "    else:\n",
    "        for j in range(n-1,i,-1):\n",
    "            if nums[j]>nums[i]:\n",
    "                break\n",
    "        swapPositions(nums,i,j)\n",
    "        start,end=i+1,len(nums)\n",
    "        nums[start:end]=nums[start:end][::-1]\n",
    "    print(nums)"
   ]
  },
  {
   "cell_type": "code",
   "execution_count": 6,
   "id": "564ac0a2-b643-4fd8-ae22-696f8165c625",
   "metadata": {},
   "outputs": [
    {
     "name": "stdout",
     "output_type": "stream",
     "text": [
      "[1, 3, 2]\n"
     ]
    }
   ],
   "source": [
    "nextPermutation([1,2,3])"
   ]
  },
  {
   "cell_type": "markdown",
   "id": "0236778a-79d2-4e36-9aa6-1be3fb2da2e1",
   "metadata": {},
   "source": [
    "Question 4:"
   ]
  },
  {
   "cell_type": "code",
   "execution_count": 7,
   "id": "27a09165-473d-4f43-9d7f-db270ce37962",
   "metadata": {},
   "outputs": [],
   "source": [
    "def findInsertIndex(nums,target):\n",
    "    start=0\n",
    "    end=len(nums)-1\n",
    "    while start<=end:\n",
    "        mid=start+(end-start)//2\n",
    "        if nums[mid]==target:\n",
    "            return mid\n",
    "        elif nums[mid]<target:\n",
    "            start=mid+1\n",
    "        else:\n",
    "            end=mid-1\n",
    "    return end+1"
   ]
  },
  {
   "cell_type": "code",
   "execution_count": 8,
   "id": "733ed5fe-2229-4d5c-9a05-f971f81c8097",
   "metadata": {},
   "outputs": [
    {
     "data": {
      "text/plain": [
       "2"
      ]
     },
     "execution_count": 8,
     "metadata": {},
     "output_type": "execute_result"
    }
   ],
   "source": [
    "findInsertIndex(nums=[1,3,5,6],target=5)"
   ]
  },
  {
   "cell_type": "markdown",
   "id": "cab42bda-6905-4fdd-87b0-c9fdaabdaa53",
   "metadata": {},
   "source": [
    "Question 5:"
   ]
  },
  {
   "cell_type": "code",
   "execution_count": 9,
   "id": "b1c748b6-7715-45e1-ac0a-609a6487e7f3",
   "metadata": {},
   "outputs": [],
   "source": [
    "def Plus_One(digits):\n",
    "    index=len(digits)-1\n",
    "    while index>=0 and digits[index]==9:\n",
    "        digits[index]=0\n",
    "        index-=1\n",
    "    if index<0:\n",
    "        ##inserring 1 at 0th index\n",
    "        digits.insert(0,1)\n",
    "    else:\n",
    "        ##adding 1 at last index\n",
    "        digits[index]+=1\n",
    "    return digits"
   ]
  },
  {
   "cell_type": "code",
   "execution_count": 10,
   "id": "e00ccbd2-1977-4465-b847-0a937a25cf1b",
   "metadata": {},
   "outputs": [
    {
     "data": {
      "text/plain": [
       "[1, 2, 4]"
      ]
     },
     "execution_count": 10,
     "metadata": {},
     "output_type": "execute_result"
    }
   ],
   "source": [
    "##function call\n",
    "Plus_One([1,2,3])"
   ]
  },
  {
   "cell_type": "markdown",
   "id": "ae21dbdc-b227-42bc-91b8-83f1e7e10067",
   "metadata": {},
   "source": [
    "Question 6:"
   ]
  },
  {
   "cell_type": "code",
   "execution_count": 11,
   "id": "bce678cb-dad3-4d62-9b11-7a55aea1810e",
   "metadata": {},
   "outputs": [],
   "source": [
    "def findSingleElement(nums):\n",
    "    result=nums[0]\n",
    "    n=len(nums)\n",
    "    for i in range(1,n):\n",
    "        result=result^nums[i]\n",
    "    return result       "
   ]
  },
  {
   "cell_type": "code",
   "execution_count": 12,
   "id": "9fba83a2-a284-4ce1-a606-4829023b703c",
   "metadata": {},
   "outputs": [
    {
     "data": {
      "text/plain": [
       "1"
      ]
     },
     "execution_count": 12,
     "metadata": {},
     "output_type": "execute_result"
    }
   ],
   "source": [
    "findSingleElement(nums=[2,2,1])"
   ]
  },
  {
   "cell_type": "code",
   "execution_count": 13,
   "id": "7d3b7f82-35a9-44ed-8750-a7de383e0292",
   "metadata": {},
   "outputs": [],
   "source": [
    "def findMissing(nums,lower,upper):\n",
    "    if not nums:\n",
    "        return formRange(lower,upper)\n",
    "    res=[]\n",
    "    if nums[0]>lower:\n",
    "        res.append(formRange(lower,nums[0]-1))\n",
    "    for i in range(len(nums)-1):\n",
    "        if nums[i+1]!= nums[i] and nums[i+1]>nums[i]+1:\n",
    "            res.append(formRange(nums[i]+1,nums[i+1]-1))\n",
    "    if nums[-1]<upper:\n",
    "        res.append(formRange(nums[-1]+1,upper))\n",
    "    return res\n",
    "def formRange(low,high):\n",
    "    if low==high:\n",
    "        return str(low)\n",
    "    else:\n",
    "        print(str(low)+\",\"+str(high))\n",
    "        return str(low)+\",\"+str(high)"
   ]
  },
  {
   "cell_type": "code",
   "execution_count": 14,
   "id": "4b2fed05-0c05-4fc4-b09c-16e91dee9689",
   "metadata": {},
   "outputs": [
    {
     "name": "stdout",
     "output_type": "stream",
     "text": [
      "4,49\n",
      "51,74\n",
      "76,99\n"
     ]
    },
    {
     "data": {
      "text/plain": [
       "['2', '4,49', '51,74', '76,99']"
      ]
     },
     "execution_count": 14,
     "metadata": {},
     "output_type": "execute_result"
    }
   ],
   "source": [
    "findMissing(nums=[0,1,3,50,75],lower=0,upper=99)"
   ]
  },
  {
   "cell_type": "code",
   "execution_count": 15,
   "id": "e5b8d1b3-fb55-480b-ac5a-a98b31a5419b",
   "metadata": {},
   "outputs": [],
   "source": [
    "def canAttendMeetings(intervals):\n",
    "    start=0\n",
    "    end=len(intervals)\n",
    "    intervals.sort(key=lambda a:a[0])\n",
    "    for i in range(1,len(intervals)):\n",
    "        if intervals[i-1][1]>intervals[i][0]:\n",
    "            return False\n",
    "    return True"
   ]
  },
  {
   "cell_type": "code",
   "execution_count": null,
   "id": "418b3143-3e16-43ca-9a9a-682868048c86",
   "metadata": {},
   "outputs": [],
   "source": []
  }
 ],
 "metadata": {
  "kernelspec": {
   "display_name": "Python 3 (ipykernel)",
   "language": "python",
   "name": "python3"
  },
  "language_info": {
   "codemirror_mode": {
    "name": "ipython",
    "version": 3
   },
   "file_extension": ".py",
   "mimetype": "text/x-python",
   "name": "python",
   "nbconvert_exporter": "python",
   "pygments_lexer": "ipython3",
   "version": "3.10.8"
  }
 },
 "nbformat": 4,
 "nbformat_minor": 5
}
